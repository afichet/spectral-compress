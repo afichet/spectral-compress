{
 "cells": [
  {
   "cell_type": "code",
   "execution_count": null,
   "metadata": {},
   "outputs": [],
   "source": [
    "import numpy as np\n",
    "import matplotlib.pyplot as plt\n",
    "import compress.moments as moments\n",
    "import compress.quantization as quantization\n",
    "\n",
    "import csv, os"
   ]
  },
  {
   "cell_type": "markdown",
   "metadata": {},
   "source": [
    "# Load dataset"
   ]
  },
  {
   "cell_type": "code",
   "execution_count": null,
   "metadata": {},
   "outputs": [],
   "source": [
    "def load_macbeth(path):\n",
    "    macbeth_wl  = []\n",
    "    macbeth_refl = []\n",
    "\n",
    "    with open(path) as csvXYZ:\n",
    "        csvReader = csv.reader(csvXYZ)\n",
    "        \n",
    "        i = 0\n",
    "        for row in csvReader:\n",
    "            if i == 0:\n",
    "                macbeth_wl += [float(r) for r in row]\n",
    "            else:\n",
    "                macbeth_refl.append([float(r) for r in row])\n",
    "            i += 1\n",
    "\n",
    "    return np.array(macbeth_wl), np.array(macbeth_refl)"
   ]
  },
  {
   "cell_type": "code",
   "execution_count": null,
   "metadata": {},
   "outputs": [],
   "source": [
    "mb_wl, mb_rfl = load_macbeth(os.path.join('data', 'spectra', 'macbeth_patches.csv'))\n",
    "mb_phases = moments.wavelengths_to_phase(mb_wl)\n",
    "mb_rfl = mb_rfl.reshape((6, 4, mb_rfl.shape[1]))\n",
    "\n",
    "n_moments = mb_rfl.shape[2]"
   ]
  },
  {
   "cell_type": "markdown",
   "metadata": {},
   "source": [
    "# Error introduced when quantizing a moment"
   ]
  },
  {
   "cell_type": "code",
   "execution_count": null,
   "metadata": {},
   "outputs": [],
   "source": [
    "quantization_curves_n_bits = [8, 9, 10, 11]\n",
    "\n",
    "\n",
    "bounded_error_progressive = []\n",
    "\n",
    "for n_bits in quantization_curves_n_bits:\n",
    "    error = quantization.bounded_get_error_progressive_quantization(mb_phases, mb_rfl, n_bits)\n",
    "    bounded_error_progressive.append(error)\n",
    "\n",
    "\n",
    "# unbounded_error_progressive = []\n",
    "\n",
    "# for n_bits in quantization_curves_n_bits:\n",
    "#     error = quantization.unbounded_get_error_progressive_quantization(mb_phases, mb_rfl, n_bits)\n",
    "#     unbounded_error_progressive.append(error)"
   ]
  },
  {
   "cell_type": "code",
   "execution_count": null,
   "metadata": {},
   "outputs": [],
   "source": [
    "fig, ax = plt.subplots(1, 1)\n",
    "\n",
    "ax.set_title('Error after quantizing a moment')\n",
    "\n",
    "x = np.arange(1, n_moments)\n",
    "\n",
    "for n_bits, err in zip(quantization_curves_n_bits, bounded_error_progressive):\n",
    "    ax.bar(x, err[1:], label='{} bits'.format(n_bits))\n",
    "\n",
    "ax.set_xlabel('Moment index')\n",
    "ax.set_ylabel('rRMSE')\n",
    "ax.set_yscale('log')\n",
    "ax.legend()\n",
    "\n",
    "fig.tight_layout()\n",
    "\n",
    "plt.show()"
   ]
  },
  {
   "cell_type": "markdown",
   "metadata": {},
   "source": [
    "# Generation of quantization curves"
   ]
  },
  {
   "cell_type": "code",
   "execution_count": null,
   "metadata": {},
   "outputs": [],
   "source": [
    "bounded_quantization_curves = []\n",
    "\n",
    "for n_bits in quantization_curves_n_bits:\n",
    "    curve = quantization.bounded_generate_quantization_curve(mb_phases, mb_rfl, n_bits)\n",
    "    bounded_quantization_curves.append(curve)"
   ]
  },
  {
   "cell_type": "code",
   "execution_count": null,
   "metadata": {},
   "outputs": [],
   "source": [
    "fig, ax = plt.subplots(1, 1)\n",
    "\n",
    "ax.set_title('Quantization curves')\n",
    "\n",
    "a = np.arange(1, n_moments)\n",
    "\n",
    "for curve, n_bits in zip(bounded_quantization_curves, quantization_curves_n_bits):\n",
    "    ax.plot(a, curve[1:], label=n_bits)\n",
    "\n",
    "ax.set_xlabel('Moment index')\n",
    "ax.set_ylabel('Number of bits')\n",
    "ax.legend()\n",
    "fig.tight_layout()\n",
    "\n",
    "plt.show()\n"
   ]
  },
  {
   "cell_type": "markdown",
   "metadata": {},
   "source": [
    "# Evaluate Pareto optimility"
   ]
  },
  {
   "cell_type": "markdown",
   "metadata": {},
   "source": [
    "Error for generated quantization curves"
   ]
  },
  {
   "cell_type": "code",
   "execution_count": null,
   "metadata": {},
   "outputs": [],
   "source": [
    "bounded_errors = np.zeros((len(bounded_quantization_curves), 2))\n",
    "\n",
    "for c, i in zip(bounded_quantization_curves, range(len(bounded_quantization_curves))):\n",
    "    bounded_errors[i, :] = quantization.bounded_err_for_curve(mb_wl, mb_rfl, c)"
   ]
  },
  {
   "cell_type": "markdown",
   "metadata": {},
   "source": [
    "Error for random quantization curves"
   ]
  },
  {
   "cell_type": "code",
   "execution_count": null,
   "metadata": {},
   "outputs": [],
   "source": [
    "# random curves\n",
    "n_iter = 300\n",
    "\n",
    "max_bits = [2, 3, 4, 5, 6, 7, 8, 9, 10, 11]\n",
    "\n",
    "w = len(max_bits)\n",
    "\n",
    "bounded_rand_errors = np.zeros((n_iter * w, 2))\n",
    "\n",
    "for i in range(n_iter):\n",
    "    for n_bits, j in zip(max_bits, range(w)):\n",
    "        curve = np.random.randint(1, high=n_bits, size=mb_phases.shape[0])\n",
    "        bounded_rand_errors[i * w + j, :] = quantization.bounded_err_for_curve(mb_wl, mb_rfl, curve)"
   ]
  },
  {
   "cell_type": "code",
   "execution_count": null,
   "metadata": {},
   "outputs": [],
   "source": [
    "fig, ax = plt.subplots(1, 1)\n",
    "\n",
    "ax.scatter(bounded_errors[:, 0], bounded_errors[:, 1], s=8)\n",
    "ax.scatter(bounded_rand_errors[:, 0], bounded_rand_errors[:, 1], s=0.5)\n",
    "\n",
    "# ax.set_ylim(0, np.max(errors[:, 1]) + 1)\n",
    "ax.set_xlabel('Total number of bits')\n",
    "ax.set_ylabel('rRMSE')\n",
    "ax.set_xlim(np.min(bounded_errors[:, 0]) - 10, np.max(bounded_errors[:, 0]) + 10)\n",
    "ax.set_yscale('log')\n",
    "\n",
    "plt.plot()"
   ]
  },
  {
   "cell_type": "code",
   "execution_count": null,
   "metadata": {},
   "outputs": [],
   "source": []
  }
 ],
 "metadata": {
  "kernelspec": {
   "display_name": "Python 3.10.7 64-bit",
   "language": "python",
   "name": "python3"
  },
  "language_info": {
   "codemirror_mode": {
    "name": "ipython",
    "version": 3
   },
   "file_extension": ".py",
   "mimetype": "text/x-python",
   "name": "python",
   "nbconvert_exporter": "python",
   "pygments_lexer": "ipython3",
   "version": "3.10.7"
  },
  "orig_nbformat": 4,
  "vscode": {
   "interpreter": {
    "hash": "e7370f93d1d0cde622a1f8e1c04877d8463912d04d973331ad4851f04de6915a"
   }
  }
 },
 "nbformat": 4,
 "nbformat_minor": 2
}
