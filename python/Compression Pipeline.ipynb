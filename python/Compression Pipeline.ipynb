{
 "cells": [
  {
   "cell_type": "code",
   "execution_count": null,
   "metadata": {},
   "outputs": [],
   "source": [
    "from openexr.spectralexr import SpectralEXRFile\n",
    "from radiometry.cmf import CMF\n",
    "from radiometry.spectrum import Spectrum\n",
    "\n",
    "import compress.moments as mnt\n",
    "import compress.util as mntutil \n",
    "\n",
    "import os\n",
    "import matplotlib.pyplot as plt\n",
    "\n",
    "import numpy as np"
   ]
  },
  {
   "cell_type": "code",
   "execution_count": null,
   "metadata": {},
   "outputs": [],
   "source": [
    "def show_spectral_reflective_images(\n",
    "    cmf: CMF, illu: Spectrum,\n",
    "    titles,\n",
    "    spectral_wavelengths,\n",
    "    spectral_images):\n",
    "    fig, ax = plt.subplots(1, len(spectral_images))\n",
    "\n",
    "    for a, title, wl, spec_img in zip(ax, titles, spectral_wavelengths, spectral_images):\n",
    "        rgb_image = np.clip(cmf.get_sRGB_lin_reflective_img(\n",
    "            illu.data[:,0], illu.data[:,1],\n",
    "            wl, spec_img\n",
    "        ), 0, 1)\n",
    "\n",
    "        a.set_title(title)\n",
    "        a.set_xticks([])\n",
    "        a.set_yticks([])\n",
    "        a.imshow(rgb_image**(1./2.2))\n",
    "\n",
    "    fig.tight_layout()\n",
    "    plt.show()"
   ]
  },
  {
   "cell_type": "markdown",
   "metadata": {},
   "source": [
    "# Load an image and misc. assets"
   ]
  },
  {
   "cell_type": "code",
   "execution_count": null,
   "metadata": {},
   "outputs": [],
   "source": [
    "image_path = \"/home/afichet/Repositories/spectral-compress/build/macbeth.exr\"\n",
    "\n",
    "cmf_cie_2006_2 = CMF(os.path.join('..', 'data', 'cmf', 'ciexyz06_2deg.csv'))\n",
    "illu_d65 = Spectrum(os.path.join('..', 'data', 'spectra', 'illuminant_D65.csv'))"
   ]
  },
  {
   "cell_type": "code",
   "execution_count": null,
   "metadata": {},
   "outputs": [],
   "source": [
    "image_in = SpectralEXRFile(image_path)\n",
    "\n",
    "wavelengths = image_in.reflective_wavelengths_nm\n",
    "spectral_image = image_in.reflective_image"
   ]
  },
  {
   "cell_type": "code",
   "execution_count": null,
   "metadata": {},
   "outputs": [],
   "source": [
    "rgb_image = cmf_cie_2006_2.get_sRGB_lin_reflective_img(\n",
    "    illu_d65.data[:,0], illu_d65.data[:,1],\n",
    "    wavelengths, spectral_image\n",
    ")\n",
    "\n",
    "plt.plot()\n",
    "plt.xticks([])\n",
    "plt.yticks([])\n",
    "plt.imshow(rgb_image**(1./2.2))\n",
    "plt.tight_layout()\n",
    "plt.show()"
   ]
  },
  {
   "cell_type": "markdown",
   "metadata": {},
   "source": [
    "# Compression pipeline"
   ]
  },
  {
   "cell_type": "markdown",
   "metadata": {},
   "source": [
    "## Compression\n",
    "\n",
    "### Current\n",
    "\n",
    "#### Bounded"
   ]
  },
  {
   "cell_type": "code",
   "execution_count": null,
   "metadata": {},
   "outputs": [],
   "source": [
    "phases = mnt.wavelengths_to_phase(np.array(wavelengths))\n",
    "basis  = mnt.get_basis_signal_to_moments(phases)\n",
    "\n",
    "compressed_bounded_moment_image, mins, maxs = mnt.bounded_forward(basis, spectral_image)"
   ]
  },
  {
   "cell_type": "markdown",
   "metadata": {},
   "source": [
    "#### Unbounded"
   ]
  },
  {
   "cell_type": "code",
   "execution_count": null,
   "metadata": {},
   "outputs": [],
   "source": [
    "phases = mnt.wavelengths_to_phase(np.array(wavelengths))\n",
    "basis  = mnt.get_basis_signal_to_moments(phases)\n",
    "\n",
    "compressed_unbounded_moment_image, mins, maxs = mnt.unbounded_forward(basis, spectral_image)"
   ]
  },
  {
   "cell_type": "markdown",
   "metadata": {},
   "source": [
    "#### Unbounded to bounded"
   ]
  },
  {
   "cell_type": "code",
   "execution_count": null,
   "metadata": {},
   "outputs": [],
   "source": [
    "phases = mnt.wavelengths_to_phase(np.array(wavelengths))\n",
    "basis  = mnt.get_basis_signal_to_moments(phases)\n",
    "\n",
    "compressed_unbounded_to_bounded_moment_image, mins, maxs = mnt.unbounded_to_bounded_forward(basis, spectral_image)"
   ]
  },
  {
   "cell_type": "markdown",
   "metadata": {},
   "source": [
    "### Alternative (bounded and unbounded)"
   ]
  },
  {
   "cell_type": "code",
   "execution_count": null,
   "metadata": {},
   "outputs": [],
   "source": [
    "phases = mnt.wavelengths_to_phase(np.array(wavelengths))\n",
    "basis  = mnt.get_basis_signal_to_moments(phases)\n",
    "\n",
    "(compressed_bounded_w_upper_moment_image,\n",
    " relative_scale,\n",
    " mins_scaled, maxs_scaled,\n",
    " global_max) = mnt.bounded_w_upper_forward(basis, spectral_image)"
   ]
  },
  {
   "cell_type": "markdown",
   "metadata": {},
   "source": [
    "## Decompression"
   ]
  },
  {
   "cell_type": "markdown",
   "metadata": {},
   "source": [
    "### Current (bounded case)"
   ]
  },
  {
   "cell_type": "code",
   "execution_count": null,
   "metadata": {},
   "outputs": [],
   "source": [
    "phases = mnt.wavelengths_to_phase(np.array(wavelengths))\n",
    "inv_basis = mnt.get_basis_moment_to_signal(phases)\n",
    "\n",
    "d_bounded_spectral_image = mnt.bounded_backward(inv_basis, compressed_bounded_moment_image, mins, maxs)"
   ]
  },
  {
   "cell_type": "code",
   "execution_count": null,
   "metadata": {},
   "outputs": [],
   "source": [
    "show_spectral_reflective_images(\n",
    "    cmf_cie_2006_2, illu_d65, \n",
    "    ['original', 'bounded'],\n",
    "    [image_in.reflective_wavelengths_nm, wavelengths],\n",
    "    [image_in.reflective_image, d_bounded_spectral_image])"
   ]
  },
  {
   "cell_type": "markdown",
   "metadata": {},
   "source": [
    "### Current (unbounded case)"
   ]
  },
  {
   "cell_type": "code",
   "execution_count": null,
   "metadata": {},
   "outputs": [],
   "source": [
    "phases = mnt.wavelengths_to_phase(np.array(wavelengths))\n",
    "inv_basis = mnt.get_basis_moment_to_signal(phases)\n",
    "\n",
    "d_unbounded_spectral_image = mnt.bounded_backward(inv_basis, compressed_unbounded_moment_image, mins, maxs)"
   ]
  },
  {
   "cell_type": "code",
   "execution_count": null,
   "metadata": {},
   "outputs": [],
   "source": [
    "show_spectral_reflective_images(\n",
    "    cmf_cie_2006_2, illu_d65, \n",
    "    ['original', 'unbounded'],\n",
    "    [image_in.reflective_wavelengths_nm, wavelengths],\n",
    "    [image_in.reflective_image, d_unbounded_spectral_image])"
   ]
  },
  {
   "cell_type": "markdown",
   "metadata": {},
   "source": [
    "### Current (unbounded to bounded case)"
   ]
  },
  {
   "cell_type": "code",
   "execution_count": null,
   "metadata": {},
   "outputs": [],
   "source": [
    "phases = mnt.wavelengths_to_phase(np.array(wavelengths))\n",
    "inv_basis = mnt.get_basis_moment_to_signal(phases)\n",
    "\n",
    "d_unbounded_to_bounded_spectral_image = mnt.bounded_backward(inv_basis, compressed_unbounded_to_bounded_moment_image, mins, maxs)"
   ]
  },
  {
   "cell_type": "code",
   "execution_count": null,
   "metadata": {},
   "outputs": [],
   "source": [
    "show_spectral_reflective_images(\n",
    "    cmf_cie_2006_2, illu_d65, \n",
    "    ['original', 'unbounded to bounded'],\n",
    "    [image_in.reflective_wavelengths_nm, wavelengths],\n",
    "    [image_in.reflective_image, d_unbounded_to_bounded_spectral_image])"
   ]
  },
  {
   "cell_type": "markdown",
   "metadata": {},
   "source": [
    "### Alternative (bounded and unbounded)"
   ]
  },
  {
   "cell_type": "code",
   "execution_count": null,
   "metadata": {},
   "outputs": [],
   "source": [
    "phases = mnt.wavelengths_to_phase(np.array(wavelengths))\n",
    "inv_basis = mnt.get_basis_moment_to_signal(phases)\n",
    "\n",
    "d_bounded_w_upper_w_upper_spectral_image = mnt.bounded_w_upper_backward(\n",
    "    inv_basis,\n",
    "    compressed_bounded_w_upper_moment_image, relative_scale,\n",
    "    mins_scaled, maxs_scaled,\n",
    "    global_max)"
   ]
  },
  {
   "cell_type": "code",
   "execution_count": null,
   "metadata": {},
   "outputs": [],
   "source": [
    "org_rgb_image = cmf_cie_2006_2.get_sRGB_lin_reflective_img(\n",
    "    illu_d65.data[:,0], illu_d65.data[:,1],\n",
    "    image_in.reflective_wavelengths_nm, image_in.reflective_image\n",
    ")\n",
    "\n",
    "d_rgb_image = cmf_cie_2006_2.get_sRGB_lin_reflective_img(\n",
    "    illu_d65.data[:,0], illu_d65.data[:,1],\n",
    "    wavelengths, d_bounded_w_upper_w_upper_spectral_image\n",
    ")\n",
    "\n",
    "fig, ax = plt.subplots(1, 2)\n",
    "\n",
    "ax[0].set_title('Original image')\n",
    "ax[0].set_xticks([])\n",
    "ax[0].set_yticks([])\n",
    "ax[0].imshow(org_rgb_image**(1./2.2))\n",
    "\n",
    "ax[1].set_title('Decompressed image')\n",
    "ax[1].set_xticks([])\n",
    "ax[1].set_yticks([])\n",
    "ax[1].imshow(d_rgb_image**(1./2.2))\n",
    "\n",
    "fig.tight_layout()\n",
    "\n",
    "plt.show()"
   ]
  },
  {
   "cell_type": "markdown",
   "metadata": {},
   "source": [
    "## Comparison of quantization curves"
   ]
  },
  {
   "cell_type": "code",
   "execution_count": null,
   "metadata": {},
   "outputs": [],
   "source": [
    "import compress.quantization as quant"
   ]
  },
  {
   "cell_type": "code",
   "execution_count": null,
   "metadata": {},
   "outputs": [],
   "source": [
    "q_curve_bounded              =              quant.bounded_generate_quantization_curve(np.array(wavelengths), spectral_image, 14)\n",
    "q_curve_unbounded            =            quant.unbounded_generate_quantization_curve(np.array(wavelengths), spectral_image, 14)\n",
    "q_curve_unbounded_to_bounded = quant.unbounded_to_bounded_generate_quantization_curve(np.array(wavelengths), spectral_image, 12)\n",
    "q_curve_bounded_w_upper      =      quant.bounded_w_upper_generate_quantization_curve(np.array(wavelengths), spectral_image, 12)"
   ]
  },
  {
   "cell_type": "code",
   "execution_count": null,
   "metadata": {},
   "outputs": [],
   "source": [
    "fig, ax = plt.subplots(1, 1)\n",
    "\n",
    "a = np.arange(len(wavelengths))\n",
    "ax.plot(a, q_curve_bounded, label='Bounded')\n",
    "ax.plot(a, q_curve_unbounded, label='Unbounded')\n",
    "ax.plot(a, q_curve_unbounded_to_bounded, label='Unbounded to Bounded')\n",
    "ax.plot(a, q_curve_bounded_w_upper, label='New')\n",
    "\n",
    "ax.legend()\n",
    "\n",
    "plt.show()"
   ]
  },
  {
   "cell_type": "code",
   "execution_count": null,
   "metadata": {},
   "outputs": [],
   "source": [
    "print('Bounded signal:', quant.bounded_err_for_curve(np.array(wavelengths), spectral_image, q_curve_bounded))\n",
    "print('Unbounded:', quant.unbounded_err_for_curve(np.array(wavelengths), spectral_image, q_curve_unbounded))\n",
    "print('Bounded with upper:', quant.bounded_w_upper_err_for_curve(np.array(wavelengths), spectral_image, q_curve_bounded_w_upper))"
   ]
  },
  {
   "cell_type": "code",
   "execution_count": null,
   "metadata": {},
   "outputs": [],
   "source": [
    "phases = mnt.wavelengths_to_phase(np.array(wavelengths))\n",
    "inv_basis = mnt.get_basis_moment_to_signal(phases)\n",
    "\n",
    "q_compressed_moment_image        = quant.quantize_dequantize(compressed_moment_image, 8, 6)\n",
    "q_compressed_scaled_moment_image = quant.quantize_dequantize(compressed_scaled_moment_image, 8, 6)\n",
    "\n",
    "d_bounded_spectral_image = mnt.bounded_backward(\n",
    "    inv_basis,\n",
    "    q_compressed_moment_image,\n",
    "    mins, maxs)\n",
    "\n",
    "d_bounded_w_upper_spectral_image = mnt.bounded_w_upper_backward(\n",
    "    inv_basis,\n",
    "    q_compressed_scaled_moment_image, relative_scale,\n",
    "    mins_scaled, maxs_scaled,\n",
    "    global_max)\n",
    "\n",
    "org_rgb_image = cmf_cie_2006_2.get_sRGB_lin_reflective_img(\n",
    "    illu_d65.data[:,0], illu_d65.data[:,1],\n",
    "    image_in.reflective_wavelengths_nm, image_in.reflective_image\n",
    ")\n",
    "\n",
    "d_rgb_bounded_image = cmf_cie_2006_2.get_sRGB_lin_reflective_img(\n",
    "    illu_d65.data[:,0], illu_d65.data[:,1],\n",
    "    wavelengths, d_bounded_spectral_image\n",
    ")\n",
    "\n",
    "d_rgb_bounded_w_upper_image = cmf_cie_2006_2.get_sRGB_lin_reflective_img(\n",
    "    illu_d65.data[:,0], illu_d65.data[:,1],\n",
    "    wavelengths, d_bounded_w_upper_spectral_image\n",
    ")\n",
    "\n",
    "fig, ax = plt.subplots(1, 3)\n",
    "\n",
    "ax[0].set_title('Original image')\n",
    "ax[0].set_xticks([])\n",
    "ax[0].set_yticks([])\n",
    "ax[0].imshow(org_rgb_image**(1./2.2))\n",
    "\n",
    "ax[1].set_title('Decompressed imag bounded')\n",
    "ax[1].set_xticks([])\n",
    "ax[1].set_yticks([])\n",
    "ax[1].imshow(d_rgb_bounded_image**(1./2.2))\n",
    "\n",
    "\n",
    "ax[2].set_title('Decompressed image bounded w upper')\n",
    "ax[2].set_xticks([])\n",
    "ax[2].set_yticks([])\n",
    "ax[2].imshow(d_rgb_bounded_w_upper_image**(1./2.2))\n",
    "\n",
    "fig.tight_layout()\n",
    "\n",
    "plt.show()"
   ]
  },
  {
   "cell_type": "code",
   "execution_count": null,
   "metadata": {},
   "outputs": [],
   "source": []
  },
  {
   "cell_type": "code",
   "execution_count": null,
   "metadata": {},
   "outputs": [],
   "source": []
  }
 ],
 "metadata": {
  "kernelspec": {
   "display_name": "Python 3.10.8 64-bit",
   "language": "python",
   "name": "python3"
  },
  "language_info": {
   "codemirror_mode": {
    "name": "ipython",
    "version": 3
   },
   "file_extension": ".py",
   "mimetype": "text/x-python",
   "name": "python",
   "nbconvert_exporter": "python",
   "pygments_lexer": "ipython3",
   "version": "3.10.8"
  },
  "orig_nbformat": 4,
  "vscode": {
   "interpreter": {
    "hash": "e7370f93d1d0cde622a1f8e1c04877d8463912d04d973331ad4851f04de6915a"
   }
  }
 },
 "nbformat": 4,
 "nbformat_minor": 2
}
