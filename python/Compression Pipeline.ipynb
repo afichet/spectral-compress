{
 "cells": [
  {
   "cell_type": "markdown",
   "metadata": {},
   "source": [
    "# Load an image"
   ]
  },
  {
   "cell_type": "code",
   "execution_count": null,
   "metadata": {},
   "outputs": [],
   "source": [
    "from openexr.spectralexr import SpectralEXRFile\n",
    "from radiometry.cmf import CMF\n",
    "from radiometry.spectrum import Spectrum\n",
    "\n",
    "import compress.moments as mnt\n",
    "import compress.util as mntutil \n",
    "\n",
    "import os\n",
    "import matplotlib.pyplot as plt\n",
    "\n",
    "import numpy as np"
   ]
  },
  {
   "cell_type": "code",
   "execution_count": null,
   "metadata": {},
   "outputs": [],
   "source": [
    "cmf_cie_2006_2 = CMF(os.path.join('..', 'data', 'cmf', 'ciexyz06_2deg.csv'))\n",
    "illu_d65 = Spectrum(os.path.join('..', 'data', 'spectra', 'illuminant_D65.csv'))"
   ]
  },
  {
   "cell_type": "markdown",
   "metadata": {},
   "source": []
  },
  {
   "cell_type": "code",
   "execution_count": null,
   "metadata": {},
   "outputs": [],
   "source": [
    "image_path = \"/home/afichet/Repositories/spectral-compress/build/macbeth.exr\"\n",
    "\n",
    "image_in = SpectralEXRFile(image_path)\n",
    "\n",
    "rgb_image = cmf_cie_2006_2.get_sRGB_lin_reflective_img(\n",
    "    illu_d65.data[:,0], illu_d65.data[:,1],\n",
    "    image_in.reflective_wavelengths_nm, image_in.reflective_image\n",
    ")\n",
    "\n",
    "plt.plot()\n",
    "plt.imshow(rgb_image**(1./2.2))\n",
    "plt.show()\n"
   ]
  },
  {
   "cell_type": "markdown",
   "metadata": {},
   "source": [
    "# Compression pipeline"
   ]
  },
  {
   "cell_type": "markdown",
   "metadata": {},
   "source": [
    "## Spectral Image to Moment Image"
   ]
  },
  {
   "cell_type": "code",
   "execution_count": null,
   "metadata": {},
   "outputs": [],
   "source": [
    "wavelengths = image_in.reflective_wavelengths_nm\n",
    "spectral_image = image_in.reflective_image\n",
    "\n",
    "phases = mnt.wavelengths_to_phase(np.array(wavelengths))\n",
    "basis  = mnt.get_basis_signal_to_moments(phases)\n",
    "moment_image = spectral_image @ basis"
   ]
  },
  {
   "cell_type": "markdown",
   "metadata": {},
   "source": [
    "## Compression\n",
    "\n",
    "### Current (bounded case)"
   ]
  },
  {
   "cell_type": "code",
   "execution_count": null,
   "metadata": {},
   "outputs": [],
   "source": [
    "# compressed_moment_image, mins, max = mnt.bounded_forward(basis, moment_image)\n",
    "\n",
    "# Full expantion:\n",
    "w, h, n_moments = moment_image.shape\n",
    "moments = np.real(moment_image.reshape((w * h, n_moments)))\n",
    "compressed_moments = np.zeros_like(moments)\n",
    "\n",
    "for i in range(moments.shape[0]):\n",
    "    compressed_moments[i, :] = mnt.bounded_compress_real_trigonometric_moments(moments[i, :])\n",
    "\n",
    "normalized_moments, mins, maxs = mntutil.normalize(compressed_moments)\n",
    "normalized_moments = normalized_moments.reshape((w, h, n_moments))\n"
   ]
  },
  {
   "cell_type": "markdown",
   "metadata": {},
   "source": [
    "### Alternative (bounded and unbounded)"
   ]
  },
  {
   "cell_type": "code",
   "execution_count": null,
   "metadata": {},
   "outputs": [],
   "source": [
    "phases = mnt.wavelengths_to_phase(np.array(wavelengths))\n",
    "basis  = mnt.get_basis_signal_to_moments(phases)\n",
    "moment_image = spectral_image @ basis\n",
    "# TODO: Handle case where there is only zeros!\n",
    "\n",
    "# 1. Get max value of the image\n",
    "max_v = np.max(spectral_image)\n",
    "\n",
    "# 2. Get a relative max per pixel\n",
    "w, h, n_moments = moment_image.shape\n",
    "spectrum = spectral_image.reshape((w * h, len(wavelengths)))\n",
    "moments = np.real(moment_image.reshape((w * h, n_moments)))\n",
    "relative_scale = np.zeros((moments.shape[0], 1), dtype=np.uint8)\n",
    "\n",
    "for i in range(spectrum.shape[0]):\n",
    "    local_max = np.max(spectrum[i, :])\n",
    "    r_scale = local_max / max_v\n",
    "    r_scale_q = np.ceil(r_scale * 255)\n",
    "    relative_scale[i] = r_scale_q\n",
    "\n",
    "relative_scale_image = relative_scale.reshape((w, h, ))\n",
    "\n",
    "# Now we can rescale the AC components by r_squale_q\n",
    "scaled_moments = np.zeros_like(moments)\n",
    "\n",
    "for i in range(moments.shape[0]):\n",
    "    scale = max_v * (relative_scale[i] / 255.)\n",
    "\n",
    "    scaled_moments[i]     = moments[i]\n",
    "    scaled_moments[i, 1:] = moments[i, 1:] / scale\n",
    "\n",
    "# Apply bounded compression\n",
    "compressed_scaled_moments = np.zeros_like(scaled_moments)\n",
    "\n",
    "for i in range(scaled_moments.shape[0]):\n",
    "    compressed_scaled_moments[i, :] = mnt.bounded_compress_real_trigonometric_moments(scaled_moments[i, :])\n",
    "\n",
    "normalized_scaled_moments, mins_scaled, maxs_scaled = mntutil.normalize(compressed_scaled_moments)\n",
    "normalized_scaled_moments = normalized_scaled_moments.reshape((w, h, n_moments))"
   ]
  },
  {
   "cell_type": "markdown",
   "metadata": {},
   "source": [
    "## Decompression"
   ]
  },
  {
   "cell_type": "markdown",
   "metadata": {},
   "source": [
    "### Current (bounded case)"
   ]
  },
  {
   "cell_type": "code",
   "execution_count": null,
   "metadata": {},
   "outputs": [],
   "source": [
    "# I need compressed_moments, mins, maxs and wavelenghts\n",
    "phases = mnt.wavelengths_to_phase(np.array(wavelengths))\n",
    "inv_basis = mnt.get_basis_moment_to_signal(phases)\n",
    "\n",
    "w, h, n_moments = normalized_moments.shape\n",
    "d_normalized_moments = normalized_moments.reshape((w * h, n_moments))\n",
    "d_compressed_moments = mntutil.denormalize(d_normalized_moments, mins, maxs)\n",
    "\n",
    "d_moments = np.zeros_like(d_compressed_moments)\n",
    "\n",
    "for i in range(d_moments.shape[0]):\n",
    "    d_moments[i, :] = mnt.bounded_decompress_real_trigonometric_moments(d_compressed_moments[i, :])\n",
    "\n",
    "d_signals = d_moments @ inv_basis\n",
    "\n",
    "d_spectral_image = d_signals.reshape((w, h, len(wavelengths)))"
   ]
  },
  {
   "cell_type": "code",
   "execution_count": null,
   "metadata": {},
   "outputs": [],
   "source": [
    "org_rgb_image = cmf_cie_2006_2.get_sRGB_lin_reflective_img(\n",
    "    illu_d65.data[:,0], illu_d65.data[:,1],\n",
    "    image_in.reflective_wavelengths_nm, image_in.reflective_image\n",
    ")\n",
    "\n",
    "d_rgb_image = cmf_cie_2006_2.get_sRGB_lin_reflective_img(\n",
    "    illu_d65.data[:,0], illu_d65.data[:,1],\n",
    "    wavelengths, d_spectral_image\n",
    ")\n",
    "\n",
    "fig, ax = plt.subplots(1, 2)\n",
    "\n",
    "ax[0].set_title('Original image')\n",
    "ax[0].set_xticks([])\n",
    "ax[0].set_yticks([])\n",
    "ax[0].imshow(org_rgb_image**(1./2.2))\n",
    "\n",
    "ax[1].set_title('Decompressed image')\n",
    "ax[1].set_xticks([])\n",
    "ax[1].set_yticks([])\n",
    "ax[1].imshow(d_rgb_image**(1./2.2))\n",
    "\n",
    "plt.show()"
   ]
  },
  {
   "cell_type": "markdown",
   "metadata": {},
   "source": [
    "### Alternative (bounded and unbounded)"
   ]
  },
  {
   "cell_type": "code",
   "execution_count": null,
   "metadata": {},
   "outputs": [],
   "source": [
    "# I need compressed_moments, mins, maxs, global max, relative scale and wavelengths\n",
    "# normalized_scaled_moments, mins_scaled, maxs_scaled, max_v, relative_scale_image, wavelengths\n",
    "\n",
    "phases = mnt.wavelengths_to_phase(np.array(wavelengths))\n",
    "inv_basis = mnt.get_basis_moment_to_signal(phases)\n",
    "\n",
    "w, h, n_moments = normalized_scaled_moments.shape\n",
    "d_normalized_scaled_moments = normalized_scaled_moments.reshape((w * h, n_moments))\n",
    "d_relative_scale            = relative_scale_image.reshape((w * h, ))\n",
    "d_compressed_scaled_moments = mntutil.denormalize(d_normalized_scaled_moments, mins_scaled, maxs_scaled)\n",
    "\n",
    "d_moments = np.zeros_like(d_compressed_scaled_moments)\n",
    "\n",
    "for i in range(d_moments.shape[0]):\n",
    "    scale = max_v * (d_relative_scale[i] / 255.)\n",
    "    d_moments[i, :] = mnt.bounded_decompress_real_trigonometric_moments(d_compressed_scaled_moments[i, :])\n",
    "    d_moments[i, 1:] *= scale\n",
    "\n",
    "d_signals = d_moments @ inv_basis\n",
    "\n",
    "d_spectral_image = d_signals.reshape((w, h, len(wavelengths)))"
   ]
  },
  {
   "cell_type": "code",
   "execution_count": null,
   "metadata": {},
   "outputs": [],
   "source": [
    "org_rgb_image = cmf_cie_2006_2.get_sRGB_lin_reflective_img(\n",
    "    illu_d65.data[:,0], illu_d65.data[:,1],\n",
    "    image_in.reflective_wavelengths_nm, image_in.reflective_image\n",
    ")\n",
    "\n",
    "d_rgb_image = cmf_cie_2006_2.get_sRGB_lin_reflective_img(\n",
    "    illu_d65.data[:,0], illu_d65.data[:,1],\n",
    "    wavelengths, d_spectral_image\n",
    ")\n",
    "\n",
    "fig, ax = plt.subplots(1, 2)\n",
    "\n",
    "ax[0].set_title('Original image')\n",
    "ax[0].set_xticks([])\n",
    "ax[0].set_yticks([])\n",
    "ax[0].imshow(org_rgb_image**(1./2.2))\n",
    "\n",
    "ax[1].set_title('Decompressed image')\n",
    "ax[1].set_xticks([])\n",
    "ax[1].set_yticks([])\n",
    "ax[1].imshow(d_rgb_image**(1./2.2))\n",
    "\n",
    "plt.show()"
   ]
  },
  {
   "cell_type": "markdown",
   "metadata": {},
   "source": [
    "## Comparison of quantization curves"
   ]
  },
  {
   "cell_type": "code",
   "execution_count": null,
   "metadata": {},
   "outputs": [],
   "source": []
  }
 ],
 "metadata": {
  "kernelspec": {
   "display_name": "Python 3.10.8 64-bit",
   "language": "python",
   "name": "python3"
  },
  "language_info": {
   "codemirror_mode": {
    "name": "ipython",
    "version": 3
   },
   "file_extension": ".py",
   "mimetype": "text/x-python",
   "name": "python",
   "nbconvert_exporter": "python",
   "pygments_lexer": "ipython3",
   "version": "3.10.8"
  },
  "orig_nbformat": 4,
  "vscode": {
   "interpreter": {
    "hash": "e7370f93d1d0cde622a1f8e1c04877d8463912d04d973331ad4851f04de6915a"
   }
  }
 },
 "nbformat": 4,
 "nbformat_minor": 2
}
