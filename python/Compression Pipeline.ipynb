{
 "cells": [
  {
   "cell_type": "code",
   "execution_count": null,
   "metadata": {},
   "outputs": [],
   "source": [
    "from openexr.spectralexr import SpectralEXRFile\n",
    "from radiometry.cmf import CMF\n",
    "from radiometry.spectrum import Spectrum\n",
    "\n",
    "import compress.moments as mnt\n",
    "import compress.util as mntutil \n",
    "\n",
    "import os\n",
    "import matplotlib.pyplot as plt\n",
    "\n",
    "import numpy as np"
   ]
  },
  {
   "cell_type": "markdown",
   "metadata": {},
   "source": [
    "# Load an image and misc. assets"
   ]
  },
  {
   "cell_type": "code",
   "execution_count": null,
   "metadata": {},
   "outputs": [],
   "source": [
    "image_path = \"/home/afichet/Repositories/spectral-compress/build/macbeth.exr\"\n",
    "\n",
    "cmf_cie_2006_2 = CMF(os.path.join('..', 'data', 'cmf', 'ciexyz06_2deg.csv'))\n",
    "illu_d65 = Spectrum(os.path.join('..', 'data', 'spectra', 'illuminant_D65.csv'))"
   ]
  },
  {
   "cell_type": "code",
   "execution_count": null,
   "metadata": {},
   "outputs": [],
   "source": [
    "image_in = SpectralEXRFile(image_path)\n",
    "\n",
    "wavelengths = image_in.reflective_wavelengths_nm\n",
    "spectral_image = image_in.reflective_image"
   ]
  },
  {
   "cell_type": "code",
   "execution_count": null,
   "metadata": {},
   "outputs": [],
   "source": [
    "rgb_image = cmf_cie_2006_2.get_sRGB_lin_reflective_img(\n",
    "    illu_d65.data[:,0], illu_d65.data[:,1],\n",
    "    wavelengths, spectral_image\n",
    ")\n",
    "\n",
    "plt.plot()\n",
    "plt.xticks([])\n",
    "plt.yticks([])\n",
    "plt.imshow(rgb_image**(1./2.2))\n",
    "plt.tight_layout()\n",
    "plt.show()"
   ]
  },
  {
   "cell_type": "markdown",
   "metadata": {},
   "source": [
    "# Compression pipeline"
   ]
  },
  {
   "cell_type": "markdown",
   "metadata": {},
   "source": [
    "## Compression\n",
    "\n",
    "### Current (bounded case)"
   ]
  },
  {
   "cell_type": "code",
   "execution_count": null,
   "metadata": {},
   "outputs": [],
   "source": [
    "phases = mnt.wavelengths_to_phase(np.array(wavelengths))\n",
    "basis  = mnt.get_basis_signal_to_moments(phases)\n",
    "\n",
    "compressed_moment_image, mins, maxs = mnt.bounded_forward(basis, spectral_image)"
   ]
  },
  {
   "cell_type": "markdown",
   "metadata": {},
   "source": [
    "### Alternative (bounded and unbounded)"
   ]
  },
  {
   "cell_type": "code",
   "execution_count": null,
   "metadata": {},
   "outputs": [],
   "source": [
    "# TODO: Handle case where there is only zeros!\n",
    "\n",
    "def bounded_w_upper_forward(basis, spectral_image):\n",
    "    w, h, n_moments = spectral_image.shape\n",
    "    spectrum = spectral_image.reshape((w * h, n_moments))\n",
    "    moments = np.real(spectrum @ basis)\n",
    "\n",
    "    # 1. Get the max value over all wavelengths & all pixels\n",
    "    global_max = np.max(spectral_image)\n",
    "\n",
    "    # 2. Get a scaling for each pixel relative to the global max\n",
    "    relative_scale = np.zeros((w * h, 1), dtype=np.uint8)\n",
    "\n",
    "    for i in range(w * h):\n",
    "        local_max = np.max(spectrum[i])\n",
    "        rel_scale = local_max / global_max\n",
    "\n",
    "        # Quantize the relative scale\n",
    "        relative_scale[i] = np.ceil(rel_scale * 255)\n",
    "    \n",
    "    # 3. Now we can rescale AC components\n",
    "    scaled_moments = np.zeros_like(moments)\n",
    "\n",
    "    for i in range(w * h):\n",
    "        scale = global_max * (relative_scale[i] / 255.)\n",
    "        scaled_moments[i, 0]  = moments[i, 0]\n",
    "        scaled_moments[i, 1:] = moments[i, 1:] / scale\n",
    "\n",
    "    # 4. Apply the bounded compression\n",
    "    compressed_scaled_moments = np.zeros_like(moments)\n",
    "\n",
    "    for i in range(w * h):\n",
    "        compressed_scaled_moments[i] = mnt.bounded_compress_real_trigonometric_moments(scaled_moments[i])\n",
    "    \n",
    "    # 5. Scaling to make AC components fit in [0..1]\n",
    "    normalized_scaled_moments, mins, maxs = mntutil.normalize(compressed_scaled_moments)\n",
    "    \n",
    "    normalized_scaled_moments = normalized_scaled_moments.reshape((w, h, n_moments))\n",
    "    relative_scale = relative_scale.reshape((w, h, 1))\n",
    "\n",
    "    return normalized_scaled_moments, relative_scale, mins, maxs, global_max"
   ]
  },
  {
   "cell_type": "code",
   "execution_count": null,
   "metadata": {},
   "outputs": [],
   "source": [
    "phases = mnt.wavelengths_to_phase(np.array(wavelengths))\n",
    "basis  = mnt.get_basis_signal_to_moments(phases)\n",
    "\n",
    "(compressed_scaled_moment_image,\n",
    " relative_scale,\n",
    " mins_scaled, maxs_scaled,\n",
    " global_max) = bounded_w_upper_forward(basis, spectral_image)"
   ]
  },
  {
   "cell_type": "markdown",
   "metadata": {},
   "source": [
    "## Decompression"
   ]
  },
  {
   "cell_type": "markdown",
   "metadata": {},
   "source": [
    "### Current (bounded case)"
   ]
  },
  {
   "cell_type": "code",
   "execution_count": null,
   "metadata": {},
   "outputs": [],
   "source": [
    "# I need compressed_moments, mins, maxs and wavelenghts\n",
    "phases = mnt.wavelengths_to_phase(np.array(wavelengths))\n",
    "inv_basis = mnt.get_basis_moment_to_signal(phases)\n",
    "\n",
    "d_bounded_spectral_image = mnt.bounded_backward(inv_basis, compressed_moment_image, mins, maxs)"
   ]
  },
  {
   "cell_type": "code",
   "execution_count": null,
   "metadata": {},
   "outputs": [],
   "source": [
    "org_rgb_image = cmf_cie_2006_2.get_sRGB_lin_reflective_img(\n",
    "    illu_d65.data[:,0], illu_d65.data[:,1],\n",
    "    image_in.reflective_wavelengths_nm, image_in.reflective_image\n",
    ")\n",
    "\n",
    "d_rgb_image = cmf_cie_2006_2.get_sRGB_lin_reflective_img(\n",
    "    illu_d65.data[:,0], illu_d65.data[:,1],\n",
    "    wavelengths, d_bounded_spectral_image\n",
    ")\n",
    "\n",
    "fig, ax = plt.subplots(1, 2)\n",
    "\n",
    "ax[0].set_title('Original image')\n",
    "ax[0].set_xticks([])\n",
    "ax[0].set_yticks([])\n",
    "ax[0].imshow(org_rgb_image**(1./2.2))\n",
    "\n",
    "ax[1].set_title('Decompressed image')\n",
    "ax[1].set_xticks([])\n",
    "ax[1].set_yticks([])\n",
    "ax[1].imshow(d_rgb_image**(1./2.2))\n",
    "\n",
    "plt.show()"
   ]
  },
  {
   "cell_type": "markdown",
   "metadata": {},
   "source": [
    "### Alternative (bounded and unbounded)"
   ]
  },
  {
   "cell_type": "code",
   "execution_count": null,
   "metadata": {},
   "outputs": [],
   "source": [
    "# I need compressed_moments, mins, maxs, global max, relative scale and wavelengths\n",
    "# normalized_scaled_moments, mins_scaled, maxs_scaled, max_v, relative_scale_image, wavelengths\n",
    "def bounded_w_upper_backward(\n",
    "    inv_basis,\n",
    "    compressed_moments: np.array,\n",
    "    relative_scale: np.array,\n",
    "    mins:np.array, maxs: np.array, global_max: float):\n",
    "\n",
    "    w, h, n_moments = compressed_moments.shape\n",
    "\n",
    "    compressed_scaled_moments = compressed_moments.reshape((w * h, n_moments))\n",
    "    compressed_scaled_moments = mntutil.denormalize(compressed_scaled_moments, mins, maxs)\n",
    "\n",
    "    relative_scale_l = relative_scale.reshape((w * h, 1))\n",
    "    moments = np.zeros((w * h, n_moments))\n",
    "\n",
    "    for i in range(w * h):\n",
    "        scale = global_max * (relative_scale_l[i] / 255.)\n",
    "        moments[i] = mnt.bounded_decompress_real_trigonometric_moments(compressed_scaled_moments[i])\n",
    "        moments[i, 1:] *= scale\n",
    "\n",
    "    signal = moments @ inv_basis\n",
    "\n",
    "    spectral_image = signal.reshape((w, h, n_moments))\n",
    "\n",
    "    return spectral_image"
   ]
  },
  {
   "cell_type": "code",
   "execution_count": null,
   "metadata": {},
   "outputs": [],
   "source": [
    "phases = mnt.wavelengths_to_phase(np.array(wavelengths))\n",
    "inv_basis = mnt.get_basis_moment_to_signal(phases)\n",
    "\n",
    "d_bounded_w_upper_spectral_image = bounded_w_upper_backward(\n",
    "    inv_basis,\n",
    "    compressed_scaled_moment_image, relative_scale,\n",
    "    mins_scaled, maxs_scaled,\n",
    "    global_max)"
   ]
  },
  {
   "cell_type": "code",
   "execution_count": null,
   "metadata": {},
   "outputs": [],
   "source": [
    "org_rgb_image = cmf_cie_2006_2.get_sRGB_lin_reflective_img(\n",
    "    illu_d65.data[:,0], illu_d65.data[:,1],\n",
    "    image_in.reflective_wavelengths_nm, image_in.reflective_image\n",
    ")\n",
    "\n",
    "d_rgb_image = cmf_cie_2006_2.get_sRGB_lin_reflective_img(\n",
    "    illu_d65.data[:,0], illu_d65.data[:,1],\n",
    "    wavelengths, d_bounded_w_upper_spectral_image\n",
    ")\n",
    "\n",
    "fig, ax = plt.subplots(1, 2)\n",
    "\n",
    "ax[0].set_title('Original image')\n",
    "ax[0].set_xticks([])\n",
    "ax[0].set_yticks([])\n",
    "ax[0].imshow(org_rgb_image**(1./2.2))\n",
    "\n",
    "ax[1].set_title('Decompressed image')\n",
    "ax[1].set_xticks([])\n",
    "ax[1].set_yticks([])\n",
    "ax[1].imshow(d_rgb_image**(1./2.2))\n",
    "\n",
    "plt.show()"
   ]
  },
  {
   "cell_type": "markdown",
   "metadata": {},
   "source": [
    "## Comparison of quantization curves"
   ]
  },
  {
   "cell_type": "code",
   "execution_count": null,
   "metadata": {},
   "outputs": [],
   "source": [
    "from compress.quantization import rrmse, quantize_dequantize\n",
    "\n",
    "def bounded_generate_quantization_curve(wavelengths: np.array, ref: np.array, n_bits: int, err_fun=rrmse) -> np.array:\n",
    "    phases = mnt.wavelengths_to_phase(wavelengths)\n",
    "\n",
    "    signal_to_moments = mnt.get_basis_signal_to_moments(phases)\n",
    "    moments_to_signal = np.linalg.inv(signal_to_moments)\n",
    "\n",
    "    norm_moments, mins, maxs = mnt.bounded_forward(signal_to_moments, ref)\n",
    "\n",
    "    bits = np.zeros((norm_moments.shape[2],), dtype=np.uint8)\n",
    "\n",
    "    bits[0] = 16\n",
    "    bits[1] = n_bits\n",
    "\n",
    "    # Determine error baseline\n",
    "    q_norm_moments  = quantize_dequantize(norm_moments, 1, n_bits)\n",
    "    backward_signal = mnt.bounded_backward(moments_to_signal, q_norm_moments, mins, maxs)\n",
    "\n",
    "    sz = backward_signal.shape[0] * backward_signal.shape[2]\n",
    "    err_init = err_fun(wavelengths, ref, backward_signal)\n",
    "\n",
    "    for i in range(2, norm_moments.shape[2]):\n",
    "        bits[i] = bits[i - 1]\n",
    "        \n",
    "        for b in range(bits[i], 0, -1):\n",
    "            # Decrease bitrate while keeping the error bellow our threshold\n",
    "            q_norm_moments = quantize_dequantize(norm_moments, i, b)\n",
    "            backward_signal = mnt.bounded_backward(moments_to_signal, q_norm_moments, mins, maxs)\n",
    "\n",
    "            err = err_fun(wavelengths, ref, backward_signal)\n",
    "\n",
    "            if err >= err_init:\n",
    "                break\n",
    "                \n",
    "            bits[i] = b\n",
    "    \n",
    "    return bits"
   ]
  },
  {
   "cell_type": "code",
   "execution_count": null,
   "metadata": {},
   "outputs": [],
   "source": [
    "def bounded_w_upper_generate_quantization_curve(wavelengths: np.array, ref: np.array, n_bits: int, err_fun=rrmse) -> np.array:\n",
    "    w, h, n_moments = ref.shape\n",
    "\n",
    "    phases = mnt.wavelengths_to_phase(wavelengths)\n",
    "\n",
    "    signal_to_moments = mnt.get_basis_signal_to_moments(phases)\n",
    "    moments_to_signal = np.linalg.inv(signal_to_moments)\n",
    "\n",
    "    norm_moments, relative_scale, mins, maxs, global_max = bounded_w_upper_forward(signal_to_moments, ref)\n",
    "\n",
    "    bits = np.zeros((n_moments,), dtype=np.uint8)\n",
    "\n",
    "    bits[0] = 16\n",
    "    bits[1] = n_bits\n",
    "\n",
    "    # Determine error baseline\n",
    "    q_norm_moments  = quantize_dequantize(norm_moments, 1, n_bits)\n",
    "    backward_signal = bounded_w_upper_backward(moments_to_signal, q_norm_moments, relative_scale, mins, maxs, global_max)\n",
    "\n",
    "    sz = backward_signal.shape[0] * n_moments\n",
    "    err_init = err_fun(wavelengths, ref, backward_signal)\n",
    "\n",
    "    for i in range(2, n_moments):\n",
    "        bits[i] = bits[i - 1]\n",
    "        \n",
    "        for b in range(bits[i], 0, -1):\n",
    "            # Decrease bitrate while keeping the error bellow our threshold\n",
    "            q_norm_moments = quantize_dequantize(norm_moments, i, b)\n",
    "            backward_signal = bounded_w_upper_backward(moments_to_signal, q_norm_moments, relative_scale, mins, maxs, global_max)\n",
    "\n",
    "            err = err_fun(wavelengths, ref, backward_signal)\n",
    "            print(err_init, err, b, i)\n",
    "            if err >= err_init:\n",
    "                break\n",
    "                \n",
    "            bits[i] = b\n",
    "    \n",
    "    return bits"
   ]
  },
  {
   "cell_type": "code",
   "execution_count": null,
   "metadata": {},
   "outputs": [],
   "source": [
    "q_curve_bounded         =         bounded_generate_quantization_curve(np.array(wavelengths), spectral_image, 12)\n",
    "q_curve_bounded_w_upper = bounded_w_upper_generate_quantization_curve(np.array(wavelengths), spectral_image, 12)"
   ]
  },
  {
   "cell_type": "code",
   "execution_count": null,
   "metadata": {},
   "outputs": [],
   "source": [
    "fig, ax = plt.subplots(1, 1)\n",
    "\n",
    "a = np.arange(len(wavelengths))\n",
    "ax.plot(a, q_curve_bounded)\n",
    "ax.plot(a, q_curve_bounded_w_upper)\n",
    "\n",
    "plt.show()"
   ]
  },
  {
   "cell_type": "code",
   "execution_count": null,
   "metadata": {},
   "outputs": [],
   "source": []
  }
 ],
 "metadata": {
  "kernelspec": {
   "display_name": "Python 3.10.8 64-bit",
   "language": "python",
   "name": "python3"
  },
  "language_info": {
   "codemirror_mode": {
    "name": "ipython",
    "version": 3
   },
   "file_extension": ".py",
   "mimetype": "text/x-python",
   "name": "python",
   "nbconvert_exporter": "python",
   "pygments_lexer": "ipython3",
   "version": "3.10.8"
  },
  "orig_nbformat": 4,
  "vscode": {
   "interpreter": {
    "hash": "e7370f93d1d0cde622a1f8e1c04877d8463912d04d973331ad4851f04de6915a"
   }
  }
 },
 "nbformat": 4,
 "nbformat_minor": 2
}
